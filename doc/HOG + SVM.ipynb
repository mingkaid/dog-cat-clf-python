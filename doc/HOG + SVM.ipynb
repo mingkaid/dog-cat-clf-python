{
 "cells": [
  {
   "cell_type": "markdown",
   "metadata": {},
   "source": [
    "# HOG + SVM"
   ]
  },
  {
   "cell_type": "code",
   "execution_count": 1,
   "metadata": {},
   "outputs": [],
   "source": [
    "import cv2\n",
    "import numpy as np\n",
    "import os\n",
    "import matplotlib.pyplot as plt"
   ]
  },
  {
   "cell_type": "markdown",
   "metadata": {},
   "source": [
    "### Read in Data"
   ]
  },
  {
   "cell_type": "code",
   "execution_count": 2,
   "metadata": {},
   "outputs": [],
   "source": [
    "def read_and_extract_hog(path, hog, print_intvl=1000):\n",
    "    filenames = []\n",
    "    X = []\n",
    "    count = 0\n",
    "    for file in os.listdir(path):\n",
    "        if file.endswith('jpg'):\n",
    "            filepath = os.path.join(path, file)\n",
    "            img = cv2.imread(filepath)\n",
    "            img_resize = cv2.resize(img, hog.winSize)\n",
    "            hog_values = hog.compute(img_resize).reshape((1, -1))\n",
    "            filename = file[:-4]\n",
    "            filenames.append(filename)\n",
    "            X.append(hog_values)\n",
    "            count += 1\n",
    "            if count % print_intvl == 0: print(count, end=' ')\n",
    "    print()\n",
    "    return (filenames, np.concatenate(X, axis=0))"
   ]
  },
  {
   "cell_type": "code",
   "execution_count": 3,
   "metadata": {},
   "outputs": [
    {
     "name": "stdout",
     "output_type": "stream",
     "text": [
      "1000 2000 3000 4000 5000 6000 7000 8000 9000 10000 11000 12000 \n",
      "1000 2000 3000 4000 5000 6000 7000 8000 9000 10000 11000 12000 \n",
      "1000 2000 3000 4000 5000 6000 7000 8000 9000 10000 11000 12000 \n"
     ]
    }
   ],
   "source": [
    "winSize = (64, 64)\n",
    "blockSize = (16, 16)\n",
    "blockStride = (8, 8)\n",
    "cellSize = (8, 8)\n",
    "nbins = 9\n",
    "hog = cv2.HOGDescriptor(winSize,blockSize,blockStride,cellSize,nbins)\n",
    "\n",
    "# Train\n",
    "train_cat_path = '../data/train/cat'\n",
    "train_dog_path = '../data/train/dog'\n",
    "_, X_train_cat = read_and_extract_hog(train_cat_path, hog)\n",
    "y_train_cat = np.zeros((X_train_cat.shape[0],))\n",
    "_, X_train_dog = read_and_extract_hog(train_dog_path, hog)\n",
    "y_train_dog = np.ones((X_train_dog.shape[0],))\n",
    "\n",
    "X_train = np.concatenate([X_train_cat, X_train_dog], axis=0)\n",
    "y_train = np.concatenate([y_train_cat, y_train_dog])\n",
    "\n",
    "# Test\n",
    "test_path = '../data/test'\n",
    "test_ids, X_test = read_and_extract_hog(test_path, hog)"
   ]
  },
  {
   "cell_type": "markdown",
   "metadata": {},
   "source": [
    "### Specify prediction pipeline and tune hyperparameters"
   ]
  },
  {
   "cell_type": "code",
   "execution_count": 6,
   "metadata": {},
   "outputs": [],
   "source": [
    "# Function for parameter selection\n",
    "from sklearn.model_selection import GridSearchCV\n",
    "def grid_search_param_selection(X, y, nfolds, model, param_grid):\n",
    "    grid_search = GridSearchCV(model, param_grid, cv=nfolds, n_jobs=-1, verbose=1)\n",
    "    grid_search.fit(X, y)\n",
    "    grid_search.best_params_\n",
    "    return grid_search.best_params_"
   ]
  },
  {
   "cell_type": "code",
   "execution_count": 11,
   "metadata": {},
   "outputs": [
    {
     "name": "stdout",
     "output_type": "stream",
     "text": [
      "Fitting 5 folds for each of 25 candidates, totalling 125 fits\n"
     ]
    },
    {
     "name": "stderr",
     "output_type": "stream",
     "text": [
      "[Parallel(n_jobs=-1)]: Using backend LokyBackend with 4 concurrent workers.\n",
      "[Parallel(n_jobs=-1)]: Done  42 tasks      | elapsed:   26.0s\n",
      "[Parallel(n_jobs=-1)]: Done 125 out of 125 | elapsed:  1.2min finished\n",
      "/home/mingkaid/.virtualenvs/cv/lib/python3.6/site-packages/sklearn/linear_model/stochastic_gradient.py:144: FutureWarning: max_iter and tol parameters have been added in SGDClassifier in 0.19. If both are left unset, they default to max_iter=5 and tol=None. If tol is not None, max_iter defaults to max_iter=1000. From 0.21, default max_iter will be 1000, and default tol will be 1e-3.\n",
      "  FutureWarning)\n"
     ]
    }
   ],
   "source": [
    "from sklearn.pipeline import Pipeline, make_pipeline\n",
    "from sklearn.linear_model import SGDClassifier\n",
    "from sklearn.preprocessing import StandardScaler\n",
    "from sklearn.decomposition import PCA\n",
    "# Specify hyperparameter range and grid-search\n",
    "l1_ratios = [0.1, 0.2, 0.4, 0.6, 0.8]\n",
    "alphas = [0.00001, 0.0001, 0.001, 0.01, 0.1]\n",
    "param_grid = {'l1_ratio': l1_ratios, 'alpha': alphas}\n",
    "nfolds = 5\n",
    "X_train_scaled = StandardScaler().fit_transform(X_train)\n",
    "best_params = grid_search_param_selection(X_train_scaled, y_train, nfolds, \n",
    "                                          SGDClassifier(random_state=random_state), param_grid)"
   ]
  },
  {
   "cell_type": "code",
   "execution_count": 14,
   "metadata": {},
   "outputs": [
    {
     "data": {
      "text/plain": [
       "{'alpha': 0.1, 'l1_ratio': 0.1}"
      ]
     },
     "execution_count": 14,
     "metadata": {},
     "output_type": "execute_result"
    }
   ],
   "source": [
    "best_params"
   ]
  },
  {
   "cell_type": "markdown",
   "metadata": {},
   "source": [
    "### Train on full training set and predict test set"
   ]
  },
  {
   "cell_type": "code",
   "execution_count": 15,
   "metadata": {
    "scrolled": true
   },
   "outputs": [
    {
     "name": "stderr",
     "output_type": "stream",
     "text": [
      "/home/mingkaid/.virtualenvs/cv/lib/python3.6/site-packages/sklearn/linear_model/stochastic_gradient.py:144: FutureWarning: max_iter and tol parameters have been added in SGDClassifier in 0.19. If both are left unset, they default to max_iter=5 and tol=None. If tol is not None, max_iter defaults to max_iter=1000. From 0.21, default max_iter will be 1000, and default tol will be 1e-3.\n",
      "  FutureWarning)\n"
     ]
    }
   ],
   "source": [
    "random_state=2018\n",
    "pipe = make_pipeline(\n",
    "    #PCA(n_components=0.95, random_state=random_state),\n",
    "    StandardScaler(),\n",
    "    SGDClassifier(random_state=random_state, l1_ratio=0.1, alpha=0.1)\n",
    ")\n",
    "yhat_test = pipe.fit(X_train, y_train).predict(X_test)"
   ]
  },
  {
   "cell_type": "code",
   "execution_count": 16,
   "metadata": {},
   "outputs": [],
   "source": [
    "import pandas as pd\n",
    "df = pd.DataFrame({\n",
    "    'id': test_ids,\n",
    "    'label': yhat_test\n",
    "})\n",
    "df.to_csv('../output/predictions_hog_svm_no_pca.csv', index=False)"
   ]
  },
  {
   "cell_type": "markdown",
   "metadata": {},
   "source": [
    "### In-sample cross-validation"
   ]
  },
  {
   "cell_type": "code",
   "execution_count": 17,
   "metadata": {
    "scrolled": true
   },
   "outputs": [
    {
     "name": "stderr",
     "output_type": "stream",
     "text": [
      "[Parallel(n_jobs=-1)]: Using backend LokyBackend with 4 concurrent workers.\n",
      "[Parallel(n_jobs=-1)]: Done   5 out of   5 | elapsed:    6.5s finished\n"
     ]
    },
    {
     "data": {
      "text/plain": [
       "array([[9084, 3416],\n",
       "       [3080, 9420]])"
      ]
     },
     "execution_count": 17,
     "metadata": {},
     "output_type": "execute_result"
    }
   ],
   "source": [
    "from sklearn.metrics import confusion_matrix\n",
    "from sklearn.model_selection import cross_val_predict\n",
    "cv_predict = cross_val_predict(pipe, X_train, y_train, n_jobs=-1, cv=5, verbose=1)\n",
    "confusion_matrix(y_train, cv_predict)"
   ]
  },
  {
   "cell_type": "code",
   "execution_count": 18,
   "metadata": {},
   "outputs": [
    {
     "data": {
      "text/plain": [
       "0.74016"
      ]
     },
     "execution_count": 18,
     "metadata": {},
     "output_type": "execute_result"
    }
   ],
   "source": [
    "(y_train == cv_predict).sum() / len(y_train)"
   ]
  }
 ],
 "metadata": {
  "kernelspec": {
   "display_name": "Python 3",
   "language": "python",
   "name": "python3"
  },
  "language_info": {
   "codemirror_mode": {
    "name": "ipython",
    "version": 3
   },
   "file_extension": ".py",
   "mimetype": "text/x-python",
   "name": "python",
   "nbconvert_exporter": "python",
   "pygments_lexer": "ipython3",
   "version": "3.6.6"
  }
 },
 "nbformat": 4,
 "nbformat_minor": 2
}
