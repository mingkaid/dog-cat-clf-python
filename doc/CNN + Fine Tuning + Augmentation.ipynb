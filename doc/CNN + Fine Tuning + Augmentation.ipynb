{
 "cells": [
  {
   "cell_type": "markdown",
   "metadata": {},
   "source": [
    "# CNN + Fine Tuning + Augmentation"
   ]
  },
  {
   "cell_type": "markdown",
   "metadata": {},
   "source": [
    "The plan: Fine tune pre-trained model to transfer it to predict cat/dogs"
   ]
  },
  {
   "cell_type": "code",
   "execution_count": 2,
   "metadata": {
    "scrolled": true
   },
   "outputs": [
    {
     "name": "stderr",
     "output_type": "stream",
     "text": [
      "Using TensorFlow backend.\n"
     ]
    }
   ],
   "source": [
    "from keras.applications import VGG16\n",
    "from keras.preprocessing.image import ImageDataGenerator"
   ]
  },
  {
   "cell_type": "markdown",
   "metadata": {},
   "source": [
    "Load VGG model without the last classifier layer, only the convolutional layers. \n",
    "\n",
    "Last layer has shape 7 x 7 x 512"
   ]
  },
  {
   "cell_type": "code",
   "execution_count": 3,
   "metadata": {},
   "outputs": [],
   "source": [
    "image_size = 224\n",
    "vgg_conv = VGG16(weights='imagenet',\n",
    "                include_top=False,\n",
    "                input_shape=(image_size, image_size, 3))"
   ]
  },
  {
   "cell_type": "markdown",
   "metadata": {},
   "source": [
    "**For fine tuning, we only train the last convolutional layer of the model, and freeze the rest**"
   ]
  },
  {
   "cell_type": "code",
   "execution_count": 4,
   "metadata": {},
   "outputs": [
    {
     "name": "stdout",
     "output_type": "stream",
     "text": [
      "<keras.engine.input_layer.InputLayer object at 0x7f23f71b3908> False\n",
      "<keras.layers.convolutional.Conv2D object at 0x7f23f713e710> False\n",
      "<keras.layers.convolutional.Conv2D object at 0x7f23f713e588> False\n",
      "<keras.layers.pooling.MaxPooling2D object at 0x7f23f7165198> False\n",
      "<keras.layers.convolutional.Conv2D object at 0x7f23f71651d0> False\n",
      "<keras.layers.convolutional.Conv2D object at 0x7f23f7116cf8> False\n",
      "<keras.layers.pooling.MaxPooling2D object at 0x7f23f70c8160> False\n",
      "<keras.layers.convolutional.Conv2D object at 0x7f23f70c8048> False\n",
      "<keras.layers.convolutional.Conv2D object at 0x7f23f70e4470> False\n",
      "<keras.layers.convolutional.Conv2D object at 0x7f23f7087748> False\n",
      "<keras.layers.pooling.MaxPooling2D object at 0x7f23f703e080> False\n",
      "<keras.layers.convolutional.Conv2D object at 0x7f23f703e0b8> False\n",
      "<keras.layers.convolutional.Conv2D object at 0x7f23f705b4e0> False\n",
      "<keras.layers.convolutional.Conv2D object at 0x7f23f65c20b8> False\n",
      "<keras.layers.pooling.MaxPooling2D object at 0x7f23f65fb128> False\n",
      "<keras.layers.convolutional.Conv2D object at 0x7f23f65fb160> True\n",
      "<keras.layers.convolutional.Conv2D object at 0x7f23f6596588> True\n",
      "<keras.layers.convolutional.Conv2D object at 0x7f23f65b6160> True\n",
      "<keras.layers.pooling.MaxPooling2D object at 0x7f23f656c1d0> True\n"
     ]
    }
   ],
   "source": [
    "for layer in vgg_conv.layers[:-4]:\n",
    "    layer.trainable = False\n",
    "\n",
    "for layer in vgg_conv.layers:\n",
    "    print(layer, layer.trainable)"
   ]
  },
  {
   "cell_type": "markdown",
   "metadata": {},
   "source": [
    "**Add classifier on top of convolutional base, and build our classifier**"
   ]
  },
  {
   "cell_type": "code",
   "execution_count": 5,
   "metadata": {},
   "outputs": [
    {
     "name": "stdout",
     "output_type": "stream",
     "text": [
      "_________________________________________________________________\n",
      "Layer (type)                 Output Shape              Param #   \n",
      "=================================================================\n",
      "vgg16 (Model)                (None, 7, 7, 512)         14714688  \n",
      "_________________________________________________________________\n",
      "flatten_1 (Flatten)          (None, 25088)             0         \n",
      "_________________________________________________________________\n",
      "dense_1 (Dense)              (None, 1024)              25691136  \n",
      "_________________________________________________________________\n",
      "dropout_1 (Dropout)          (None, 1024)              0         \n",
      "_________________________________________________________________\n",
      "dense_2 (Dense)              (None, 2)                 2050      \n",
      "=================================================================\n",
      "Total params: 40,407,874\n",
      "Trainable params: 32,772,610\n",
      "Non-trainable params: 7,635,264\n",
      "_________________________________________________________________\n"
     ]
    }
   ],
   "source": [
    "from keras import models, layers, optimizers\n",
    "\n",
    "# Create model\n",
    "model = models.Sequential()\n",
    "\n",
    "# Add vgg convolutional base model\n",
    "model.add(vgg_conv)\n",
    "\n",
    "# Add new layers\n",
    "model.add(layers.Flatten())\n",
    "model.add(layers.Dense(1024, activation='relu'))\n",
    "model.add(layers.Dropout(0.5)) # Drop out to avoid overfitting\n",
    "model.add(layers.Dense(2, activation='softmax'))\n",
    "\n",
    "# Print summary of model\n",
    "model.summary()"
   ]
  },
  {
   "cell_type": "markdown",
   "metadata": {},
   "source": [
    "Use ImageDataGenerator class to load the images and flow_from_directory function to generate batches of images and labels"
   ]
  },
  {
   "cell_type": "code",
   "execution_count": 6,
   "metadata": {},
   "outputs": [],
   "source": [
    "train_dir = '../data/train'\n",
    "validation_dir = '../data/validation'\n",
    "nTrain = 20000\n",
    "nVal = 5000"
   ]
  },
  {
   "cell_type": "code",
   "execution_count": 7,
   "metadata": {},
   "outputs": [
    {
     "name": "stdout",
     "output_type": "stream",
     "text": [
      "Found 20000 images belonging to 2 classes.\n",
      "Found 5000 images belonging to 2 classes.\n"
     ]
    }
   ],
   "source": [
    "# Perform data augmentation with width shift, height shift, rotation and horizontal flips\n",
    "train_datagen = ImageDataGenerator(\n",
    "    rescale=1./255,\n",
    "    rotation_range=20,\n",
    "    width_shift_range=0.2,\n",
    "    height_shift_range=0.2,\n",
    "    horizontal_flip=True,\n",
    "    fill_mode='nearest'\n",
    ")\n",
    "\n",
    "validation_datagen = ImageDataGenerator(rescale=1./255)\n",
    "\n",
    "# Change the \n",
    "train_batchsize = 80\n",
    "val_batchsize = 20\n",
    "\n",
    "train_generator = train_datagen.flow_from_directory(\n",
    "    train_dir,\n",
    "    target_size=(image_size, image_size),\n",
    "    batch_size=train_batchsize,\n",
    "    class_mode='categorical'\n",
    ")\n",
    "\n",
    "validation_generator = validation_datagen.flow_from_directory(\n",
    "    validation_dir,\n",
    "    target_size=(image_size, image_size),\n",
    "    batch_size=val_batchsize,\n",
    "    class_mode='categorical',\n",
    "    shuffle=False\n",
    ")"
   ]
  },
  {
   "cell_type": "code",
   "execution_count": null,
   "metadata": {
    "scrolled": true
   },
   "outputs": [
    {
     "name": "stdout",
     "output_type": "stream",
     "text": [
      "Epoch 1/50\n",
      "250/250 [==============================] - 13483s 54s/step - loss: 0.4235 - acc: 0.8283 - val_loss: 0.1736 - val_acc: 0.9288\n",
      "Epoch 2/50\n",
      "250/250 [==============================] - 13501s 54s/step - loss: 0.2540 - acc: 0.9019 - val_loss: 0.2086 - val_acc: 0.9036\n",
      "Epoch 3/50\n",
      "250/250 [==============================] - 13609s 54s/step - loss: 0.2431 - acc: 0.9128 - val_loss: 0.1417 - val_acc: 0.9478\n",
      "Epoch 4/50\n",
      "  5/250 [..............................] - ETA: 3:01:09 - loss: 0.1298 - acc: 0.9500"
     ]
    }
   ],
   "source": [
    "# Compile model\n",
    "model.compile(loss='categorical_crossentropy',\n",
    "             optimizer=optimizers.RMSprop(lr=1e-4),\n",
    "             metrics=['acc'])\n",
    "\n",
    "# Train the model\n",
    "history = model.fit_generator(\n",
    "    train_generator,\n",
    "    steps_per_epoch=train_generator.samples/train_generator.batch_size,\n",
    "    epochs=50,\n",
    "    validation_data=validation_generator,\n",
    "    validation_steps=validation_generator.samples/validation_generator.batch_size,\n",
    "    verbose=1\n",
    ")\n",
    "\n",
    "# Save the model\n",
    "model.save('../output/vgg16_d1.h5')"
   ]
  },
  {
   "cell_type": "code",
   "execution_count": null,
   "metadata": {},
   "outputs": [],
   "source": []
  }
 ],
 "metadata": {
  "kernelspec": {
   "display_name": "Python 3",
   "language": "python",
   "name": "python3"
  },
  "language_info": {
   "codemirror_mode": {
    "name": "ipython",
    "version": 3
   },
   "file_extension": ".py",
   "mimetype": "text/x-python",
   "name": "python",
   "nbconvert_exporter": "python",
   "pygments_lexer": "ipython3",
   "version": "3.6.6"
  }
 },
 "nbformat": 4,
 "nbformat_minor": 2
}
